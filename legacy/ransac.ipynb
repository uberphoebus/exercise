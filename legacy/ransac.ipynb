{
 "cells": [
  {
   "cell_type": "code",
   "execution_count": 1,
   "metadata": {},
   "outputs": [],
   "source": [
    "import matplotlib.pyplot as plt\n",
    "import numpy as np"
   ]
  },
  {
   "cell_type": "code",
   "execution_count": 2,
   "metadata": {},
   "outputs": [],
   "source": [
    "def make_random_data(x_min, x_max, a, b, c, noise_scale):\n",
    "    x = np.arange(x_min, x_max, 0.1)\n",
    "    y = a * x**2 + b * x + c\n",
    "\n",
    "    y_noise = y + np.random.randn(len(x)) * 100\n",
    "    y_noise[1000:1250] = y_noise[1000:1250] + np.random.randn(250) * noise_scale\n",
    "\n",
    "    return x, y, y_noise\n",
    "\n",
    "\n",
    "def quadratic_from_three_points(x1, y1, x2, y2, x3, y3):\n",
    "\n",
    "    A = np.array([[x1**2, x1, 1], [x2**2, x2, 1], [x3**2, x3, 1]])\n",
    "    b = np.array([y1, y2, y3])\n",
    "    x = np.linalg.solve(A, b)\n",
    "\n",
    "    a = x[0]\n",
    "    b = x[1]\n",
    "    c = x[2]\n",
    "\n",
    "    return a, b, c\n",
    "\n",
    "\n",
    "def plot_data(x, y, y_noise, model):\n",
    "\n",
    "    if model is not None:\n",
    "        y_pred = model[0] * x**2 + model[1] * x + model[2]\n",
    "        plt.plot(x, y_pred, label=\"Predicted Data\", linestyle=\"--\", color=\"red\")\n",
    "\n",
    "    # plt.plot(x, y, label=\"Origin Data\", color=\"orange\")\n",
    "    plt.scatter(x, y_noise, label=\"Real Data\", s=1)\n",
    "\n",
    "    plt.grid(True)\n",
    "    plt.legend()\n",
    "    plt.show()\n",
    "\n",
    "\n",
    "def ransac(x, y, n, k, t, d):\n",
    "    best_error = np.inf\n",
    "    best_model = None\n",
    "    best_inliers = None\n",
    "\n",
    "    for i in range(n):\n",
    "        sample = np.random.choice(len(x), k, replace=False)\n",
    "        x_sample = x[sample]\n",
    "        y_sample = y[sample]\n",
    "\n",
    "        a, b, c = quadratic_from_three_points(\n",
    "            x_sample[0], y_sample[0], x_sample[1], y_sample[1], x_sample[2], y_sample[2]\n",
    "        )\n",
    "\n",
    "        y_pred = a * x**2 + b * x + c\n",
    "        error = np.abs(y - y_pred)\n",
    "\n",
    "        inliers = np.where(error < t)[0]\n",
    "        if len(inliers) > d:\n",
    "            error = np.sum(error[inliers])\n",
    "            if error < best_error:\n",
    "                best_error = error\n",
    "                best_model = (a, b, c)\n",
    "                best_inliers = inliers\n",
    "\n",
    "    return best_model, best_inliers"
   ]
  },
  {
   "cell_type": "code",
   "execution_count": 3,
   "metadata": {},
   "outputs": [
    {
     "ename": "ValueError",
     "evalue": "operands could not be broadcast together with shapes (0,) (250,) ",
     "output_type": "error",
     "traceback": [
      "\u001b[0;31m---------------------------------------------------------------------------\u001b[0m",
      "\u001b[0;31mValueError\u001b[0m                                Traceback (most recent call last)",
      "Cell \u001b[0;32mIn[3], line 1\u001b[0m\n\u001b[0;32m----> 1\u001b[0m x, y_real, y_noise \u001b[38;5;241m=\u001b[39m \u001b[43mmake_random_data\u001b[49m\u001b[43m(\u001b[49m\n\u001b[1;32m      2\u001b[0m \u001b[43m    \u001b[49m\u001b[43mx_min\u001b[49m\u001b[38;5;241;43m=\u001b[39;49m\u001b[38;5;241;43m-\u001b[39;49m\u001b[38;5;241;43m50\u001b[39;49m\u001b[43m,\u001b[49m\u001b[43m \u001b[49m\u001b[43mx_max\u001b[49m\u001b[38;5;241;43m=\u001b[39;49m\u001b[38;5;241;43m50\u001b[39;49m\u001b[43m,\u001b[49m\u001b[43m \u001b[49m\u001b[43ma\u001b[49m\u001b[38;5;241;43m=\u001b[39;49m\u001b[38;5;241;43m0.1\u001b[39;49m\u001b[43m,\u001b[49m\u001b[43m \u001b[49m\u001b[43mb\u001b[49m\u001b[38;5;241;43m=\u001b[39;49m\u001b[38;5;241;43m-\u001b[39;49m\u001b[38;5;241;43m10\u001b[39;49m\u001b[43m,\u001b[49m\u001b[43m \u001b[49m\u001b[43mc\u001b[49m\u001b[38;5;241;43m=\u001b[39;49m\u001b[38;5;241;43m300\u001b[39;49m\u001b[43m,\u001b[49m\u001b[43m \u001b[49m\u001b[43mnoise_scale\u001b[49m\u001b[38;5;241;43m=\u001b[39;49m\u001b[38;5;241;43m100\u001b[39;49m\n\u001b[1;32m      3\u001b[0m \u001b[43m)\u001b[49m\n\u001b[1;32m      4\u001b[0m \u001b[38;5;28;01mfor\u001b[39;00m i \u001b[38;5;129;01min\u001b[39;00m \u001b[38;5;28mrange\u001b[39m(\u001b[38;5;241m1\u001b[39m):\n\u001b[1;32m      5\u001b[0m     best_model, best_inliers \u001b[38;5;241m=\u001b[39m ransac(x, y_noise, \u001b[38;5;241m10\u001b[39m, \u001b[38;5;241m3\u001b[39m, \u001b[38;5;241m1000\u001b[39m, \u001b[38;5;241m1000\u001b[39m)\n",
      "Cell \u001b[0;32mIn[2], line 6\u001b[0m, in \u001b[0;36mmake_random_data\u001b[0;34m(x_min, x_max, a, b, c, noise_scale)\u001b[0m\n\u001b[1;32m      3\u001b[0m y \u001b[38;5;241m=\u001b[39m a \u001b[38;5;241m*\u001b[39m x\u001b[38;5;241m*\u001b[39m\u001b[38;5;241m*\u001b[39m\u001b[38;5;241m2\u001b[39m \u001b[38;5;241m+\u001b[39m b \u001b[38;5;241m*\u001b[39m x \u001b[38;5;241m+\u001b[39m c\n\u001b[1;32m      5\u001b[0m y_noise \u001b[38;5;241m=\u001b[39m y \u001b[38;5;241m+\u001b[39m np\u001b[38;5;241m.\u001b[39mrandom\u001b[38;5;241m.\u001b[39mrandn(\u001b[38;5;28mlen\u001b[39m(x)) \u001b[38;5;241m*\u001b[39m \u001b[38;5;241m100\u001b[39m\n\u001b[0;32m----> 6\u001b[0m y_noise[\u001b[38;5;241m1000\u001b[39m:\u001b[38;5;241m1250\u001b[39m] \u001b[38;5;241m=\u001b[39m \u001b[43my_noise\u001b[49m\u001b[43m[\u001b[49m\u001b[38;5;241;43m1000\u001b[39;49m\u001b[43m:\u001b[49m\u001b[38;5;241;43m1250\u001b[39;49m\u001b[43m]\u001b[49m\u001b[43m \u001b[49m\u001b[38;5;241;43m+\u001b[39;49m\u001b[43m \u001b[49m\u001b[43mnp\u001b[49m\u001b[38;5;241;43m.\u001b[39;49m\u001b[43mrandom\u001b[49m\u001b[38;5;241;43m.\u001b[39;49m\u001b[43mrandn\u001b[49m\u001b[43m(\u001b[49m\u001b[38;5;241;43m250\u001b[39;49m\u001b[43m)\u001b[49m\u001b[43m \u001b[49m\u001b[38;5;241;43m*\u001b[39;49m\u001b[43m \u001b[49m\u001b[43mnoise_scale\u001b[49m\n\u001b[1;32m      8\u001b[0m \u001b[38;5;28;01mreturn\u001b[39;00m x, y, y_noise\n",
      "\u001b[0;31mValueError\u001b[0m: operands could not be broadcast together with shapes (0,) (250,) "
     ]
    }
   ],
   "source": [
    "x, y_real, y_noise = make_random_data(\n",
    "    x_min=-50, x_max=50, a=0.1, b=-10, c=300, noise_scale=100\n",
    ")\n",
    "for i in range(1):\n",
    "    best_model, best_inliers = ransac(x, y_noise, 10, 3, 1000, 1000)\n",
    "    print(f\"[{i:2d}] Best Model: {best_model}\")\n",
    "    plot_data(x, y_real, y_noise, best_model)"
   ]
  },
  {
   "cell_type": "code",
   "execution_count": null,
   "metadata": {},
   "outputs": [],
   "source": []
  }
 ],
 "metadata": {
  "kernelspec": {
   "display_name": "Python 3",
   "language": "python",
   "name": "python3"
  },
  "language_info": {
   "codemirror_mode": {
    "name": "ipython",
    "version": 3
   },
   "file_extension": ".py",
   "mimetype": "text/x-python",
   "name": "python",
   "nbconvert_exporter": "python",
   "pygments_lexer": "ipython3",
   "version": "3.10.13"
  }
 },
 "nbformat": 4,
 "nbformat_minor": 2
}
